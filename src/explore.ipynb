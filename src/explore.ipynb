{
    "cells": [
        {
            "cell_type": "markdown",
            "metadata": {},
            "source": [
                "#DECISION TREE"
            ]
        },
        {
            "cell_type": "code",
            "execution_count": 69,
            "metadata": {},
            "outputs": [],
            "source": [
                "import pandas as pd\n",
                "import numpy as np\n",
                "import warnings \n",
                "import math\n",
                "\n",
                "import matplotlib.pyplot as plt\n",
                "%matplotlib inline\n",
                "warnings.filterwarnings('ignore')\n",
                "\n",
                "import plotly.express as px\n",
                "import plotly.offline as py\n",
                "import plotly.io as pio\n",
                "import plotly.graph_objs as go\n",
                "\n",
                "import seaborn as sns\n",
                "import seaborn as sns\n",
                "\n",
                "from scipy.stats import norm, skew\n",
                "\n",
                "from sklearn import tree\n",
                "from sklearn.tree import DecisionTreeClassifier\n",
                "from sklearn.model_selection import train_test_split\n",
                "from sklearn.model_selection import GridSearchCV\n",
                "from sklearn import metrics\n",
                "from sklearn.metrics import confusion_matrix\n",
                "from sklearn.metrics import ConfusionMatrixDisplay\n",
                "\n",
                "import pickle"
            ]
        },
        {
            "cell_type": "code",
            "execution_count": 7,
            "metadata": {},
            "outputs": [],
            "source": [
                "df = pd.read_csv('https://raw.githubusercontent.com/4GeeksAcademy/decision-tree-project-tutorial/main/diabetes.csv')\n"
            ]
        },
        {
            "cell_type": "code",
            "execution_count": 8,
            "metadata": {},
            "outputs": [
                {
                    "data": {
                        "text/html": [
                            "<div>\n",
                            "<style scoped>\n",
                            "    .dataframe tbody tr th:only-of-type {\n",
                            "        vertical-align: middle;\n",
                            "    }\n",
                            "\n",
                            "    .dataframe tbody tr th {\n",
                            "        vertical-align: top;\n",
                            "    }\n",
                            "\n",
                            "    .dataframe thead th {\n",
                            "        text-align: right;\n",
                            "    }\n",
                            "</style>\n",
                            "<table border=\"1\" class=\"dataframe\">\n",
                            "  <thead>\n",
                            "    <tr style=\"text-align: right;\">\n",
                            "      <th></th>\n",
                            "      <th>Pregnancies</th>\n",
                            "      <th>Glucose</th>\n",
                            "      <th>BloodPressure</th>\n",
                            "      <th>SkinThickness</th>\n",
                            "      <th>Insulin</th>\n",
                            "      <th>BMI</th>\n",
                            "      <th>DiabetesPedigreeFunction</th>\n",
                            "      <th>Age</th>\n",
                            "      <th>Outcome</th>\n",
                            "    </tr>\n",
                            "  </thead>\n",
                            "  <tbody>\n",
                            "    <tr>\n",
                            "      <th>158</th>\n",
                            "      <td>2</td>\n",
                            "      <td>88</td>\n",
                            "      <td>74</td>\n",
                            "      <td>19</td>\n",
                            "      <td>53</td>\n",
                            "      <td>29.0</td>\n",
                            "      <td>0.229</td>\n",
                            "      <td>22</td>\n",
                            "      <td>0</td>\n",
                            "    </tr>\n",
                            "    <tr>\n",
                            "      <th>507</th>\n",
                            "      <td>1</td>\n",
                            "      <td>130</td>\n",
                            "      <td>60</td>\n",
                            "      <td>23</td>\n",
                            "      <td>170</td>\n",
                            "      <td>28.6</td>\n",
                            "      <td>0.692</td>\n",
                            "      <td>21</td>\n",
                            "      <td>0</td>\n",
                            "    </tr>\n",
                            "    <tr>\n",
                            "      <th>514</th>\n",
                            "      <td>3</td>\n",
                            "      <td>99</td>\n",
                            "      <td>54</td>\n",
                            "      <td>19</td>\n",
                            "      <td>86</td>\n",
                            "      <td>25.6</td>\n",
                            "      <td>0.154</td>\n",
                            "      <td>24</td>\n",
                            "      <td>0</td>\n",
                            "    </tr>\n",
                            "    <tr>\n",
                            "      <th>245</th>\n",
                            "      <td>9</td>\n",
                            "      <td>184</td>\n",
                            "      <td>85</td>\n",
                            "      <td>15</td>\n",
                            "      <td>0</td>\n",
                            "      <td>30.0</td>\n",
                            "      <td>1.213</td>\n",
                            "      <td>49</td>\n",
                            "      <td>1</td>\n",
                            "    </tr>\n",
                            "    <tr>\n",
                            "      <th>400</th>\n",
                            "      <td>4</td>\n",
                            "      <td>95</td>\n",
                            "      <td>64</td>\n",
                            "      <td>0</td>\n",
                            "      <td>0</td>\n",
                            "      <td>32.0</td>\n",
                            "      <td>0.161</td>\n",
                            "      <td>31</td>\n",
                            "      <td>1</td>\n",
                            "    </tr>\n",
                            "    <tr>\n",
                            "      <th>3</th>\n",
                            "      <td>1</td>\n",
                            "      <td>89</td>\n",
                            "      <td>66</td>\n",
                            "      <td>23</td>\n",
                            "      <td>94</td>\n",
                            "      <td>28.1</td>\n",
                            "      <td>0.167</td>\n",
                            "      <td>21</td>\n",
                            "      <td>0</td>\n",
                            "    </tr>\n",
                            "    <tr>\n",
                            "      <th>16</th>\n",
                            "      <td>0</td>\n",
                            "      <td>118</td>\n",
                            "      <td>84</td>\n",
                            "      <td>47</td>\n",
                            "      <td>230</td>\n",
                            "      <td>45.8</td>\n",
                            "      <td>0.551</td>\n",
                            "      <td>31</td>\n",
                            "      <td>1</td>\n",
                            "    </tr>\n",
                            "    <tr>\n",
                            "      <th>744</th>\n",
                            "      <td>13</td>\n",
                            "      <td>153</td>\n",
                            "      <td>88</td>\n",
                            "      <td>37</td>\n",
                            "      <td>140</td>\n",
                            "      <td>40.6</td>\n",
                            "      <td>1.174</td>\n",
                            "      <td>39</td>\n",
                            "      <td>0</td>\n",
                            "    </tr>\n",
                            "    <tr>\n",
                            "      <th>725</th>\n",
                            "      <td>4</td>\n",
                            "      <td>112</td>\n",
                            "      <td>78</td>\n",
                            "      <td>40</td>\n",
                            "      <td>0</td>\n",
                            "      <td>39.4</td>\n",
                            "      <td>0.236</td>\n",
                            "      <td>38</td>\n",
                            "      <td>0</td>\n",
                            "    </tr>\n",
                            "    <tr>\n",
                            "      <th>760</th>\n",
                            "      <td>2</td>\n",
                            "      <td>88</td>\n",
                            "      <td>58</td>\n",
                            "      <td>26</td>\n",
                            "      <td>16</td>\n",
                            "      <td>28.4</td>\n",
                            "      <td>0.766</td>\n",
                            "      <td>22</td>\n",
                            "      <td>0</td>\n",
                            "    </tr>\n",
                            "  </tbody>\n",
                            "</table>\n",
                            "</div>"
                        ],
                        "text/plain": [
                            "     Pregnancies  Glucose  BloodPressure  SkinThickness  Insulin   BMI  \\\n",
                            "158            2       88             74             19       53  29.0   \n",
                            "507            1      130             60             23      170  28.6   \n",
                            "514            3       99             54             19       86  25.6   \n",
                            "245            9      184             85             15        0  30.0   \n",
                            "400            4       95             64              0        0  32.0   \n",
                            "3              1       89             66             23       94  28.1   \n",
                            "16             0      118             84             47      230  45.8   \n",
                            "744           13      153             88             37      140  40.6   \n",
                            "725            4      112             78             40        0  39.4   \n",
                            "760            2       88             58             26       16  28.4   \n",
                            "\n",
                            "     DiabetesPedigreeFunction  Age  Outcome  \n",
                            "158                     0.229   22        0  \n",
                            "507                     0.692   21        0  \n",
                            "514                     0.154   24        0  \n",
                            "245                     1.213   49        1  \n",
                            "400                     0.161   31        1  \n",
                            "3                       0.167   21        0  \n",
                            "16                      0.551   31        1  \n",
                            "744                     1.174   39        0  \n",
                            "725                     0.236   38        0  \n",
                            "760                     0.766   22        0  "
                        ]
                    },
                    "execution_count": 8,
                    "metadata": {},
                    "output_type": "execute_result"
                }
            ],
            "source": [
                "df.sample(10)"
            ]
        },
        {
            "cell_type": "code",
            "execution_count": 10,
            "metadata": {},
            "outputs": [
                {
                    "name": "stdout",
                    "output_type": "stream",
                    "text": [
                        "<class 'pandas.core.frame.DataFrame'>\n",
                        "RangeIndex: 768 entries, 0 to 767\n",
                        "Data columns (total 9 columns):\n",
                        " #   Column                    Non-Null Count  Dtype  \n",
                        "---  ------                    --------------  -----  \n",
                        " 0   Pregnancies               768 non-null    int64  \n",
                        " 1   Glucose                   768 non-null    int64  \n",
                        " 2   BloodPressure             768 non-null    int64  \n",
                        " 3   SkinThickness             768 non-null    int64  \n",
                        " 4   Insulin                   768 non-null    int64  \n",
                        " 5   BMI                       768 non-null    float64\n",
                        " 6   DiabetesPedigreeFunction  768 non-null    float64\n",
                        " 7   Age                       768 non-null    int64  \n",
                        " 8   Outcome                   768 non-null    int64  \n",
                        "dtypes: float64(2), int64(7)\n",
                        "memory usage: 54.1 KB\n"
                    ]
                }
            ],
            "source": [
                "df.info()"
            ]
        },
        {
            "cell_type": "code",
            "execution_count": 11,
            "metadata": {},
            "outputs": [
                {
                    "data": {
                        "text/html": [
                            "<div>\n",
                            "<style scoped>\n",
                            "    .dataframe tbody tr th:only-of-type {\n",
                            "        vertical-align: middle;\n",
                            "    }\n",
                            "\n",
                            "    .dataframe tbody tr th {\n",
                            "        vertical-align: top;\n",
                            "    }\n",
                            "\n",
                            "    .dataframe thead th {\n",
                            "        text-align: right;\n",
                            "    }\n",
                            "</style>\n",
                            "<table border=\"1\" class=\"dataframe\">\n",
                            "  <thead>\n",
                            "    <tr style=\"text-align: right;\">\n",
                            "      <th></th>\n",
                            "      <th>Pregnancies</th>\n",
                            "      <th>Glucose</th>\n",
                            "      <th>BloodPressure</th>\n",
                            "      <th>SkinThickness</th>\n",
                            "      <th>Insulin</th>\n",
                            "      <th>BMI</th>\n",
                            "      <th>DiabetesPedigreeFunction</th>\n",
                            "      <th>Age</th>\n",
                            "      <th>Outcome</th>\n",
                            "    </tr>\n",
                            "  </thead>\n",
                            "  <tbody>\n",
                            "    <tr>\n",
                            "      <th>count</th>\n",
                            "      <td>768.000000</td>\n",
                            "      <td>768.000000</td>\n",
                            "      <td>768.000000</td>\n",
                            "      <td>768.000000</td>\n",
                            "      <td>768.000000</td>\n",
                            "      <td>768.000000</td>\n",
                            "      <td>768.000000</td>\n",
                            "      <td>768.000000</td>\n",
                            "      <td>768.000000</td>\n",
                            "    </tr>\n",
                            "    <tr>\n",
                            "      <th>mean</th>\n",
                            "      <td>3.845052</td>\n",
                            "      <td>120.894531</td>\n",
                            "      <td>69.105469</td>\n",
                            "      <td>20.536458</td>\n",
                            "      <td>79.799479</td>\n",
                            "      <td>31.992578</td>\n",
                            "      <td>0.471876</td>\n",
                            "      <td>33.240885</td>\n",
                            "      <td>0.348958</td>\n",
                            "    </tr>\n",
                            "    <tr>\n",
                            "      <th>std</th>\n",
                            "      <td>3.369578</td>\n",
                            "      <td>31.972618</td>\n",
                            "      <td>19.355807</td>\n",
                            "      <td>15.952218</td>\n",
                            "      <td>115.244002</td>\n",
                            "      <td>7.884160</td>\n",
                            "      <td>0.331329</td>\n",
                            "      <td>11.760232</td>\n",
                            "      <td>0.476951</td>\n",
                            "    </tr>\n",
                            "    <tr>\n",
                            "      <th>min</th>\n",
                            "      <td>0.000000</td>\n",
                            "      <td>0.000000</td>\n",
                            "      <td>0.000000</td>\n",
                            "      <td>0.000000</td>\n",
                            "      <td>0.000000</td>\n",
                            "      <td>0.000000</td>\n",
                            "      <td>0.078000</td>\n",
                            "      <td>21.000000</td>\n",
                            "      <td>0.000000</td>\n",
                            "    </tr>\n",
                            "    <tr>\n",
                            "      <th>25%</th>\n",
                            "      <td>1.000000</td>\n",
                            "      <td>99.000000</td>\n",
                            "      <td>62.000000</td>\n",
                            "      <td>0.000000</td>\n",
                            "      <td>0.000000</td>\n",
                            "      <td>27.300000</td>\n",
                            "      <td>0.243750</td>\n",
                            "      <td>24.000000</td>\n",
                            "      <td>0.000000</td>\n",
                            "    </tr>\n",
                            "    <tr>\n",
                            "      <th>50%</th>\n",
                            "      <td>3.000000</td>\n",
                            "      <td>117.000000</td>\n",
                            "      <td>72.000000</td>\n",
                            "      <td>23.000000</td>\n",
                            "      <td>30.500000</td>\n",
                            "      <td>32.000000</td>\n",
                            "      <td>0.372500</td>\n",
                            "      <td>29.000000</td>\n",
                            "      <td>0.000000</td>\n",
                            "    </tr>\n",
                            "    <tr>\n",
                            "      <th>75%</th>\n",
                            "      <td>6.000000</td>\n",
                            "      <td>140.250000</td>\n",
                            "      <td>80.000000</td>\n",
                            "      <td>32.000000</td>\n",
                            "      <td>127.250000</td>\n",
                            "      <td>36.600000</td>\n",
                            "      <td>0.626250</td>\n",
                            "      <td>41.000000</td>\n",
                            "      <td>1.000000</td>\n",
                            "    </tr>\n",
                            "    <tr>\n",
                            "      <th>max</th>\n",
                            "      <td>17.000000</td>\n",
                            "      <td>199.000000</td>\n",
                            "      <td>122.000000</td>\n",
                            "      <td>99.000000</td>\n",
                            "      <td>846.000000</td>\n",
                            "      <td>67.100000</td>\n",
                            "      <td>2.420000</td>\n",
                            "      <td>81.000000</td>\n",
                            "      <td>1.000000</td>\n",
                            "    </tr>\n",
                            "  </tbody>\n",
                            "</table>\n",
                            "</div>"
                        ],
                        "text/plain": [
                            "       Pregnancies     Glucose  BloodPressure  SkinThickness     Insulin  \\\n",
                            "count   768.000000  768.000000     768.000000     768.000000  768.000000   \n",
                            "mean      3.845052  120.894531      69.105469      20.536458   79.799479   \n",
                            "std       3.369578   31.972618      19.355807      15.952218  115.244002   \n",
                            "min       0.000000    0.000000       0.000000       0.000000    0.000000   \n",
                            "25%       1.000000   99.000000      62.000000       0.000000    0.000000   \n",
                            "50%       3.000000  117.000000      72.000000      23.000000   30.500000   \n",
                            "75%       6.000000  140.250000      80.000000      32.000000  127.250000   \n",
                            "max      17.000000  199.000000     122.000000      99.000000  846.000000   \n",
                            "\n",
                            "              BMI  DiabetesPedigreeFunction         Age     Outcome  \n",
                            "count  768.000000                768.000000  768.000000  768.000000  \n",
                            "mean    31.992578                  0.471876   33.240885    0.348958  \n",
                            "std      7.884160                  0.331329   11.760232    0.476951  \n",
                            "min      0.000000                  0.078000   21.000000    0.000000  \n",
                            "25%     27.300000                  0.243750   24.000000    0.000000  \n",
                            "50%     32.000000                  0.372500   29.000000    0.000000  \n",
                            "75%     36.600000                  0.626250   41.000000    1.000000  \n",
                            "max     67.100000                  2.420000   81.000000    1.000000  "
                        ]
                    },
                    "execution_count": 11,
                    "metadata": {},
                    "output_type": "execute_result"
                }
            ],
            "source": [
                "df.describe()"
            ]
        },
        {
            "cell_type": "code",
            "execution_count": 13,
            "metadata": {},
            "outputs": [
                {
                    "data": {
                        "image/png": "[encoded data removed]",
                        "text/plain": [
                            "<Figure size 1080x864 with 8 Axes>"
                        ]
                    },
                    "metadata": {
                        "needs_background": "light"
                    },
                    "output_type": "display_data"
                }
            ],
            "source": [
                "fig, axs = plt.subplots(4, 2, figsize=(15,12))\n",
                "axs = axs.flatten()\n",
                "sns.distplot(df['Pregnancies'],rug=True,color='#38b000',ax=axs[0])\n",
                "sns.distplot(df['Glucose'],rug=True,color='#FF9933',ax=axs[1])\n",
                "sns.distplot(df['BloodPressure'],rug=True,color='#522500',ax=axs[2])\n",
                "sns.distplot(df['SkinThickness'],rug=True,color='#66b3ff',ax=axs[3])\n",
                "sns.distplot(df['Insulin'],rug=True,color='#FF6699',ax=axs[4])\n",
                "sns.distplot(df['BMI'],color='#e76f51',rug=True,ax=axs[5])\n",
                "sns.distplot(df['DiabetesPedigreeFunction'],color='#03045e',rug=True,ax=axs[6])\n",
                "sns.distplot(df['Age'],rug=True,color='#333533',ax=axs[7])\n",
                "plt.show()"
            ]
        },
        {
            "cell_type": "markdown",
            "metadata": {},
            "source": [
                "limpieza de datos"
            ]
        },
        {
            "cell_type": "code",
            "execution_count": 15,
            "metadata": {},
            "outputs": [
                {
                    "data": {
                        "text/html": [
                            "<div>\n",
                            "<style scoped>\n",
                            "    .dataframe tbody tr th:only-of-type {\n",
                            "        vertical-align: middle;\n",
                            "    }\n",
                            "\n",
                            "    .dataframe tbody tr th {\n",
                            "        vertical-align: top;\n",
                            "    }\n",
                            "\n",
                            "    .dataframe thead th {\n",
                            "        text-align: right;\n",
                            "    }\n",
                            "</style>\n",
                            "<table border=\"1\" class=\"dataframe\">\n",
                            "  <thead>\n",
                            "    <tr style=\"text-align: right;\">\n",
                            "      <th></th>\n",
                            "      <th>Pregnancies</th>\n",
                            "      <th>Glucose</th>\n",
                            "      <th>BloodPressure</th>\n",
                            "      <th>SkinThickness</th>\n",
                            "      <th>Insulin</th>\n",
                            "      <th>BMI</th>\n",
                            "      <th>DiabetesPedigreeFunction</th>\n",
                            "      <th>Age</th>\n",
                            "      <th>Outcome</th>\n",
                            "    </tr>\n",
                            "  </thead>\n",
                            "  <tbody>\n",
                            "    <tr>\n",
                            "      <th>75</th>\n",
                            "      <td>1</td>\n",
                            "      <td>0</td>\n",
                            "      <td>48</td>\n",
                            "      <td>20</td>\n",
                            "      <td>0</td>\n",
                            "      <td>24.7</td>\n",
                            "      <td>0.140</td>\n",
                            "      <td>22</td>\n",
                            "      <td>0</td>\n",
                            "    </tr>\n",
                            "    <tr>\n",
                            "      <th>182</th>\n",
                            "      <td>1</td>\n",
                            "      <td>0</td>\n",
                            "      <td>74</td>\n",
                            "      <td>20</td>\n",
                            "      <td>23</td>\n",
                            "      <td>27.7</td>\n",
                            "      <td>0.299</td>\n",
                            "      <td>21</td>\n",
                            "      <td>0</td>\n",
                            "    </tr>\n",
                            "    <tr>\n",
                            "      <th>342</th>\n",
                            "      <td>1</td>\n",
                            "      <td>0</td>\n",
                            "      <td>68</td>\n",
                            "      <td>35</td>\n",
                            "      <td>0</td>\n",
                            "      <td>32.0</td>\n",
                            "      <td>0.389</td>\n",
                            "      <td>22</td>\n",
                            "      <td>0</td>\n",
                            "    </tr>\n",
                            "    <tr>\n",
                            "      <th>349</th>\n",
                            "      <td>5</td>\n",
                            "      <td>0</td>\n",
                            "      <td>80</td>\n",
                            "      <td>32</td>\n",
                            "      <td>0</td>\n",
                            "      <td>41.0</td>\n",
                            "      <td>0.346</td>\n",
                            "      <td>37</td>\n",
                            "      <td>1</td>\n",
                            "    </tr>\n",
                            "    <tr>\n",
                            "      <th>502</th>\n",
                            "      <td>6</td>\n",
                            "      <td>0</td>\n",
                            "      <td>68</td>\n",
                            "      <td>41</td>\n",
                            "      <td>0</td>\n",
                            "      <td>39.0</td>\n",
                            "      <td>0.727</td>\n",
                            "      <td>41</td>\n",
                            "      <td>1</td>\n",
                            "    </tr>\n",
                            "  </tbody>\n",
                            "</table>\n",
                            "</div>"
                        ],
                        "text/plain": [
                            "     Pregnancies  Glucose  BloodPressure  SkinThickness  Insulin   BMI  \\\n",
                            "75             1        0             48             20        0  24.7   \n",
                            "182            1        0             74             20       23  27.7   \n",
                            "342            1        0             68             35        0  32.0   \n",
                            "349            5        0             80             32        0  41.0   \n",
                            "502            6        0             68             41        0  39.0   \n",
                            "\n",
                            "     DiabetesPedigreeFunction  Age  Outcome  \n",
                            "75                      0.140   22        0  \n",
                            "182                     0.299   21        0  \n",
                            "342                     0.389   22        0  \n",
                            "349                     0.346   37        1  \n",
                            "502                     0.727   41        1  "
                        ]
                    },
                    "execution_count": 15,
                    "metadata": {},
                    "output_type": "execute_result"
                }
            ],
            "source": [
                "df[df['Glucose']==0]"
            ]
        },
        {
            "cell_type": "code",
            "execution_count": 19,
            "metadata": {},
            "outputs": [
                {
                    "data": {
                        "text/plain": [
                            "35"
                        ]
                    },
                    "execution_count": 19,
                    "metadata": {},
                    "output_type": "execute_result"
                }
            ],
            "source": [
                "len(df[df['BloodPressure']==0])\n"
            ]
        },
        {
            "cell_type": "code",
            "execution_count": 18,
            "metadata": {},
            "outputs": [
                {
                    "data": {
                        "text/plain": [
                            "11"
                        ]
                    },
                    "execution_count": 18,
                    "metadata": {},
                    "output_type": "execute_result"
                }
            ],
            "source": [
                "len(df[df['BMI']==0])"
            ]
        },
        {
            "cell_type": "code",
            "execution_count": 20,
            "metadata": {},
            "outputs": [
                {
                    "data": {
                        "text/html": [
                            "<div>\n",
                            "<style scoped>\n",
                            "    .dataframe tbody tr th:only-of-type {\n",
                            "        vertical-align: middle;\n",
                            "    }\n",
                            "\n",
                            "    .dataframe tbody tr th {\n",
                            "        vertical-align: top;\n",
                            "    }\n",
                            "\n",
                            "    .dataframe thead th {\n",
                            "        text-align: right;\n",
                            "    }\n",
                            "</style>\n",
                            "<table border=\"1\" class=\"dataframe\">\n",
                            "  <thead>\n",
                            "    <tr style=\"text-align: right;\">\n",
                            "      <th></th>\n",
                            "      <th>Pregnancies</th>\n",
                            "      <th>Glucose</th>\n",
                            "      <th>BloodPressure</th>\n",
                            "      <th>SkinThickness</th>\n",
                            "      <th>Insulin</th>\n",
                            "      <th>BMI</th>\n",
                            "      <th>DiabetesPedigreeFunction</th>\n",
                            "      <th>Age</th>\n",
                            "      <th>Outcome</th>\n",
                            "    </tr>\n",
                            "  </thead>\n",
                            "  <tbody>\n",
                            "    <tr>\n",
                            "      <th>0</th>\n",
                            "      <td>6</td>\n",
                            "      <td>148</td>\n",
                            "      <td>72</td>\n",
                            "      <td>35</td>\n",
                            "      <td>0</td>\n",
                            "      <td>33.6</td>\n",
                            "      <td>0.627</td>\n",
                            "      <td>50</td>\n",
                            "      <td>1</td>\n",
                            "    </tr>\n",
                            "    <tr>\n",
                            "      <th>1</th>\n",
                            "      <td>1</td>\n",
                            "      <td>85</td>\n",
                            "      <td>66</td>\n",
                            "      <td>29</td>\n",
                            "      <td>0</td>\n",
                            "      <td>26.6</td>\n",
                            "      <td>0.351</td>\n",
                            "      <td>31</td>\n",
                            "      <td>0</td>\n",
                            "    </tr>\n",
                            "    <tr>\n",
                            "      <th>2</th>\n",
                            "      <td>8</td>\n",
                            "      <td>183</td>\n",
                            "      <td>64</td>\n",
                            "      <td>0</td>\n",
                            "      <td>0</td>\n",
                            "      <td>23.3</td>\n",
                            "      <td>0.672</td>\n",
                            "      <td>32</td>\n",
                            "      <td>1</td>\n",
                            "    </tr>\n",
                            "    <tr>\n",
                            "      <th>3</th>\n",
                            "      <td>1</td>\n",
                            "      <td>89</td>\n",
                            "      <td>66</td>\n",
                            "      <td>23</td>\n",
                            "      <td>94</td>\n",
                            "      <td>28.1</td>\n",
                            "      <td>0.167</td>\n",
                            "      <td>21</td>\n",
                            "      <td>0</td>\n",
                            "    </tr>\n",
                            "    <tr>\n",
                            "      <th>4</th>\n",
                            "      <td>0</td>\n",
                            "      <td>137</td>\n",
                            "      <td>40</td>\n",
                            "      <td>35</td>\n",
                            "      <td>168</td>\n",
                            "      <td>43.1</td>\n",
                            "      <td>2.288</td>\n",
                            "      <td>33</td>\n",
                            "      <td>1</td>\n",
                            "    </tr>\n",
                            "    <tr>\n",
                            "      <th>...</th>\n",
                            "      <td>...</td>\n",
                            "      <td>...</td>\n",
                            "      <td>...</td>\n",
                            "      <td>...</td>\n",
                            "      <td>...</td>\n",
                            "      <td>...</td>\n",
                            "      <td>...</td>\n",
                            "      <td>...</td>\n",
                            "      <td>...</td>\n",
                            "    </tr>\n",
                            "    <tr>\n",
                            "      <th>763</th>\n",
                            "      <td>10</td>\n",
                            "      <td>101</td>\n",
                            "      <td>76</td>\n",
                            "      <td>48</td>\n",
                            "      <td>180</td>\n",
                            "      <td>32.9</td>\n",
                            "      <td>0.171</td>\n",
                            "      <td>63</td>\n",
                            "      <td>0</td>\n",
                            "    </tr>\n",
                            "    <tr>\n",
                            "      <th>764</th>\n",
                            "      <td>2</td>\n",
                            "      <td>122</td>\n",
                            "      <td>70</td>\n",
                            "      <td>27</td>\n",
                            "      <td>0</td>\n",
                            "      <td>36.8</td>\n",
                            "      <td>0.340</td>\n",
                            "      <td>27</td>\n",
                            "      <td>0</td>\n",
                            "    </tr>\n",
                            "    <tr>\n",
                            "      <th>765</th>\n",
                            "      <td>5</td>\n",
                            "      <td>121</td>\n",
                            "      <td>72</td>\n",
                            "      <td>23</td>\n",
                            "      <td>112</td>\n",
                            "      <td>26.2</td>\n",
                            "      <td>0.245</td>\n",
                            "      <td>30</td>\n",
                            "      <td>0</td>\n",
                            "    </tr>\n",
                            "    <tr>\n",
                            "      <th>766</th>\n",
                            "      <td>1</td>\n",
                            "      <td>126</td>\n",
                            "      <td>60</td>\n",
                            "      <td>0</td>\n",
                            "      <td>0</td>\n",
                            "      <td>30.1</td>\n",
                            "      <td>0.349</td>\n",
                            "      <td>47</td>\n",
                            "      <td>1</td>\n",
                            "    </tr>\n",
                            "    <tr>\n",
                            "      <th>767</th>\n",
                            "      <td>1</td>\n",
                            "      <td>93</td>\n",
                            "      <td>70</td>\n",
                            "      <td>31</td>\n",
                            "      <td>0</td>\n",
                            "      <td>30.4</td>\n",
                            "      <td>0.315</td>\n",
                            "      <td>23</td>\n",
                            "      <td>0</td>\n",
                            "    </tr>\n",
                            "  </tbody>\n",
                            "</table>\n",
                            "<p>724 rows × 9 columns</p>\n",
                            "</div>"
                        ],
                        "text/plain": [
                            "     Pregnancies  Glucose  BloodPressure  SkinThickness  Insulin   BMI  \\\n",
                            "0              6      148             72             35        0  33.6   \n",
                            "1              1       85             66             29        0  26.6   \n",
                            "2              8      183             64              0        0  23.3   \n",
                            "3              1       89             66             23       94  28.1   \n",
                            "4              0      137             40             35      168  43.1   \n",
                            "..           ...      ...            ...            ...      ...   ...   \n",
                            "763           10      101             76             48      180  32.9   \n",
                            "764            2      122             70             27        0  36.8   \n",
                            "765            5      121             72             23      112  26.2   \n",
                            "766            1      126             60              0        0  30.1   \n",
                            "767            1       93             70             31        0  30.4   \n",
                            "\n",
                            "     DiabetesPedigreeFunction  Age  Outcome  \n",
                            "0                       0.627   50        1  \n",
                            "1                       0.351   31        0  \n",
                            "2                       0.672   32        1  \n",
                            "3                       0.167   21        0  \n",
                            "4                       2.288   33        1  \n",
                            "..                        ...  ...      ...  \n",
                            "763                     0.171   63        0  \n",
                            "764                     0.340   27        0  \n",
                            "765                     0.245   30        0  \n",
                            "766                     0.349   47        1  \n",
                            "767                     0.315   23        0  \n",
                            "\n",
                            "[724 rows x 9 columns]"
                        ]
                    },
                    "execution_count": 20,
                    "metadata": {},
                    "output_type": "execute_result"
                }
            ],
            "source": [
                "df_clean = df.copy()\n",
                "df_clean = df_clean[(df_clean[\"BMI\"] > 0 ) & (df_clean[\"BloodPressure\"] > 0) & (df_clean[\"Glucose\"] > 0)]\n",
                "df_clean"
            ]
        },
        {
            "cell_type": "code",
            "execution_count": 21,
            "metadata": {},
            "outputs": [],
            "source": [
                "\n",
                "X = df_clean.drop('Outcome', axis=1)\n",
                "y = df_clean['Outcome']\n",
                "\n",
                "X_train, X_test, y_train, y_test = train_test_split(X, y, random_state=28)"
            ]
        },
        {
            "cell_type": "code",
            "execution_count": 22,
            "metadata": {},
            "outputs": [],
            "source": [
                "\n"
            ]
        },
        {
            "cell_type": "code",
            "execution_count": 23,
            "metadata": {},
            "outputs": [
                {
                    "name": "stdout",
                    "output_type": "stream",
                    "text": [
                        "<class 'pandas.core.frame.DataFrame'>\n",
                        "Int64Index: 543 entries, 534 to 273\n",
                        "Data columns (total 9 columns):\n",
                        " #   Column                    Non-Null Count  Dtype  \n",
                        "---  ------                    --------------  -----  \n",
                        " 0   Pregnancies               543 non-null    int64  \n",
                        " 1   Glucose                   543 non-null    int64  \n",
                        " 2   BloodPressure             543 non-null    int64  \n",
                        " 3   SkinThickness             543 non-null    int64  \n",
                        " 4   Insulin                   543 non-null    int64  \n",
                        " 5   BMI                       543 non-null    float64\n",
                        " 6   DiabetesPedigreeFunction  543 non-null    float64\n",
                        " 7   Age                       543 non-null    int64  \n",
                        " 8   Outcome                   543 non-null    int64  \n",
                        "dtypes: float64(2), int64(7)\n",
                        "memory usage: 42.4 KB\n"
                    ]
                }
            ],
            "source": [
                "df_train.info()"
            ]
        },
        {
            "cell_type": "code",
            "execution_count": 24,
            "metadata": {},
            "outputs": [
                {
                    "data": {
                        "text/html": [
                            "<div>\n",
                            "<style scoped>\n",
                            "    .dataframe tbody tr th:only-of-type {\n",
                            "        vertical-align: middle;\n",
                            "    }\n",
                            "\n",
                            "    .dataframe tbody tr th {\n",
                            "        vertical-align: top;\n",
                            "    }\n",
                            "\n",
                            "    .dataframe thead th {\n",
                            "        text-align: right;\n",
                            "    }\n",
                            "</style>\n",
                            "<table border=\"1\" class=\"dataframe\">\n",
                            "  <thead>\n",
                            "    <tr style=\"text-align: right;\">\n",
                            "      <th></th>\n",
                            "      <th>Pregnancies</th>\n",
                            "      <th>Glucose</th>\n",
                            "      <th>BloodPressure</th>\n",
                            "      <th>SkinThickness</th>\n",
                            "      <th>Insulin</th>\n",
                            "      <th>BMI</th>\n",
                            "      <th>DiabetesPedigreeFunction</th>\n",
                            "      <th>Age</th>\n",
                            "      <th>Outcome</th>\n",
                            "    </tr>\n",
                            "  </thead>\n",
                            "  <tbody>\n",
                            "    <tr>\n",
                            "      <th>30</th>\n",
                            "      <td>5</td>\n",
                            "      <td>109</td>\n",
                            "      <td>75</td>\n",
                            "      <td>26</td>\n",
                            "      <td>0</td>\n",
                            "      <td>36.0</td>\n",
                            "      <td>0.546</td>\n",
                            "      <td>60</td>\n",
                            "      <td>0</td>\n",
                            "    </tr>\n",
                            "    <tr>\n",
                            "      <th>232</th>\n",
                            "      <td>1</td>\n",
                            "      <td>79</td>\n",
                            "      <td>80</td>\n",
                            "      <td>25</td>\n",
                            "      <td>37</td>\n",
                            "      <td>25.4</td>\n",
                            "      <td>0.583</td>\n",
                            "      <td>22</td>\n",
                            "      <td>0</td>\n",
                            "    </tr>\n",
                            "    <tr>\n",
                            "      <th>444</th>\n",
                            "      <td>4</td>\n",
                            "      <td>117</td>\n",
                            "      <td>62</td>\n",
                            "      <td>12</td>\n",
                            "      <td>0</td>\n",
                            "      <td>29.7</td>\n",
                            "      <td>0.380</td>\n",
                            "      <td>30</td>\n",
                            "      <td>1</td>\n",
                            "    </tr>\n",
                            "    <tr>\n",
                            "      <th>309</th>\n",
                            "      <td>2</td>\n",
                            "      <td>124</td>\n",
                            "      <td>68</td>\n",
                            "      <td>28</td>\n",
                            "      <td>205</td>\n",
                            "      <td>32.9</td>\n",
                            "      <td>0.875</td>\n",
                            "      <td>30</td>\n",
                            "      <td>1</td>\n",
                            "    </tr>\n",
                            "    <tr>\n",
                            "      <th>686</th>\n",
                            "      <td>3</td>\n",
                            "      <td>130</td>\n",
                            "      <td>64</td>\n",
                            "      <td>0</td>\n",
                            "      <td>0</td>\n",
                            "      <td>23.1</td>\n",
                            "      <td>0.314</td>\n",
                            "      <td>22</td>\n",
                            "      <td>0</td>\n",
                            "    </tr>\n",
                            "    <tr>\n",
                            "      <th>211</th>\n",
                            "      <td>0</td>\n",
                            "      <td>147</td>\n",
                            "      <td>85</td>\n",
                            "      <td>54</td>\n",
                            "      <td>0</td>\n",
                            "      <td>42.8</td>\n",
                            "      <td>0.375</td>\n",
                            "      <td>24</td>\n",
                            "      <td>0</td>\n",
                            "    </tr>\n",
                            "    <tr>\n",
                            "      <th>37</th>\n",
                            "      <td>9</td>\n",
                            "      <td>102</td>\n",
                            "      <td>76</td>\n",
                            "      <td>37</td>\n",
                            "      <td>0</td>\n",
                            "      <td>32.9</td>\n",
                            "      <td>0.665</td>\n",
                            "      <td>46</td>\n",
                            "      <td>1</td>\n",
                            "    </tr>\n",
                            "    <tr>\n",
                            "      <th>302</th>\n",
                            "      <td>5</td>\n",
                            "      <td>77</td>\n",
                            "      <td>82</td>\n",
                            "      <td>41</td>\n",
                            "      <td>42</td>\n",
                            "      <td>35.8</td>\n",
                            "      <td>0.156</td>\n",
                            "      <td>35</td>\n",
                            "      <td>0</td>\n",
                            "    </tr>\n",
                            "    <tr>\n",
                            "      <th>740</th>\n",
                            "      <td>11</td>\n",
                            "      <td>120</td>\n",
                            "      <td>80</td>\n",
                            "      <td>37</td>\n",
                            "      <td>150</td>\n",
                            "      <td>42.3</td>\n",
                            "      <td>0.785</td>\n",
                            "      <td>48</td>\n",
                            "      <td>1</td>\n",
                            "    </tr>\n",
                            "    <tr>\n",
                            "      <th>17</th>\n",
                            "      <td>7</td>\n",
                            "      <td>107</td>\n",
                            "      <td>74</td>\n",
                            "      <td>0</td>\n",
                            "      <td>0</td>\n",
                            "      <td>29.6</td>\n",
                            "      <td>0.254</td>\n",
                            "      <td>31</td>\n",
                            "      <td>1</td>\n",
                            "    </tr>\n",
                            "  </tbody>\n",
                            "</table>\n",
                            "</div>"
                        ],
                        "text/plain": [
                            "     Pregnancies  Glucose  BloodPressure  SkinThickness  Insulin   BMI  \\\n",
                            "30             5      109             75             26        0  36.0   \n",
                            "232            1       79             80             25       37  25.4   \n",
                            "444            4      117             62             12        0  29.7   \n",
                            "309            2      124             68             28      205  32.9   \n",
                            "686            3      130             64              0        0  23.1   \n",
                            "211            0      147             85             54        0  42.8   \n",
                            "37             9      102             76             37        0  32.9   \n",
                            "302            5       77             82             41       42  35.8   \n",
                            "740           11      120             80             37      150  42.3   \n",
                            "17             7      107             74              0        0  29.6   \n",
                            "\n",
                            "     DiabetesPedigreeFunction  Age  Outcome  \n",
                            "30                      0.546   60        0  \n",
                            "232                     0.583   22        0  \n",
                            "444                     0.380   30        1  \n",
                            "309                     0.875   30        1  \n",
                            "686                     0.314   22        0  \n",
                            "211                     0.375   24        0  \n",
                            "37                      0.665   46        1  \n",
                            "302                     0.156   35        0  \n",
                            "740                     0.785   48        1  \n",
                            "17                      0.254   31        1  "
                        ]
                    },
                    "execution_count": 24,
                    "metadata": {},
                    "output_type": "execute_result"
                }
            ],
            "source": [
                "df_train.sample(10)"
            ]
        },
        {
            "cell_type": "code",
            "execution_count": 25,
            "metadata": {},
            "outputs": [
                {
                    "data": {
                        "text/html": [
                            "<div>\n",
                            "<style scoped>\n",
                            "    .dataframe tbody tr th:only-of-type {\n",
                            "        vertical-align: middle;\n",
                            "    }\n",
                            "\n",
                            "    .dataframe tbody tr th {\n",
                            "        vertical-align: top;\n",
                            "    }\n",
                            "\n",
                            "    .dataframe thead th {\n",
                            "        text-align: right;\n",
                            "    }\n",
                            "</style>\n",
                            "<table border=\"1\" class=\"dataframe\">\n",
                            "  <thead>\n",
                            "    <tr style=\"text-align: right;\">\n",
                            "      <th></th>\n",
                            "      <th>Pregnancies</th>\n",
                            "      <th>Glucose</th>\n",
                            "      <th>BloodPressure</th>\n",
                            "      <th>SkinThickness</th>\n",
                            "      <th>Insulin</th>\n",
                            "      <th>BMI</th>\n",
                            "      <th>DiabetesPedigreeFunction</th>\n",
                            "      <th>Age</th>\n",
                            "      <th>Outcome</th>\n",
                            "    </tr>\n",
                            "  </thead>\n",
                            "  <tbody>\n",
                            "    <tr>\n",
                            "      <th>count</th>\n",
                            "      <td>543.000000</td>\n",
                            "      <td>543.000000</td>\n",
                            "      <td>543.000000</td>\n",
                            "      <td>543.000000</td>\n",
                            "      <td>543.000000</td>\n",
                            "      <td>543.000000</td>\n",
                            "      <td>543.000000</td>\n",
                            "      <td>543.000000</td>\n",
                            "      <td>543.000000</td>\n",
                            "    </tr>\n",
                            "    <tr>\n",
                            "      <th>mean</th>\n",
                            "      <td>3.931860</td>\n",
                            "      <td>121.517495</td>\n",
                            "      <td>72.217311</td>\n",
                            "      <td>20.799263</td>\n",
                            "      <td>81.182320</td>\n",
                            "      <td>32.411050</td>\n",
                            "      <td>0.459812</td>\n",
                            "      <td>33.504604</td>\n",
                            "      <td>0.346225</td>\n",
                            "    </tr>\n",
                            "    <tr>\n",
                            "      <th>std</th>\n",
                            "      <td>3.415419</td>\n",
                            "      <td>30.550230</td>\n",
                            "      <td>12.331249</td>\n",
                            "      <td>15.897221</td>\n",
                            "      <td>111.224474</td>\n",
                            "      <td>6.840723</td>\n",
                            "      <td>0.310118</td>\n",
                            "      <td>12.262484</td>\n",
                            "      <td>0.476205</td>\n",
                            "    </tr>\n",
                            "    <tr>\n",
                            "      <th>min</th>\n",
                            "      <td>0.000000</td>\n",
                            "      <td>44.000000</td>\n",
                            "      <td>24.000000</td>\n",
                            "      <td>0.000000</td>\n",
                            "      <td>0.000000</td>\n",
                            "      <td>18.200000</td>\n",
                            "      <td>0.078000</td>\n",
                            "      <td>21.000000</td>\n",
                            "      <td>0.000000</td>\n",
                            "    </tr>\n",
                            "    <tr>\n",
                            "      <th>25%</th>\n",
                            "      <td>1.000000</td>\n",
                            "      <td>99.500000</td>\n",
                            "      <td>64.000000</td>\n",
                            "      <td>0.000000</td>\n",
                            "      <td>0.000000</td>\n",
                            "      <td>27.450000</td>\n",
                            "      <td>0.241000</td>\n",
                            "      <td>24.000000</td>\n",
                            "      <td>0.000000</td>\n",
                            "    </tr>\n",
                            "    <tr>\n",
                            "      <th>50%</th>\n",
                            "      <td>3.000000</td>\n",
                            "      <td>117.000000</td>\n",
                            "      <td>72.000000</td>\n",
                            "      <td>23.000000</td>\n",
                            "      <td>45.000000</td>\n",
                            "      <td>32.200000</td>\n",
                            "      <td>0.364000</td>\n",
                            "      <td>29.000000</td>\n",
                            "      <td>0.000000</td>\n",
                            "    </tr>\n",
                            "    <tr>\n",
                            "      <th>75%</th>\n",
                            "      <td>6.000000</td>\n",
                            "      <td>140.000000</td>\n",
                            "      <td>80.000000</td>\n",
                            "      <td>32.000000</td>\n",
                            "      <td>130.000000</td>\n",
                            "      <td>36.500000</td>\n",
                            "      <td>0.606000</td>\n",
                            "      <td>41.000000</td>\n",
                            "      <td>1.000000</td>\n",
                            "    </tr>\n",
                            "    <tr>\n",
                            "      <th>max</th>\n",
                            "      <td>17.000000</td>\n",
                            "      <td>199.000000</td>\n",
                            "      <td>122.000000</td>\n",
                            "      <td>99.000000</td>\n",
                            "      <td>680.000000</td>\n",
                            "      <td>67.100000</td>\n",
                            "      <td>2.420000</td>\n",
                            "      <td>81.000000</td>\n",
                            "      <td>1.000000</td>\n",
                            "    </tr>\n",
                            "  </tbody>\n",
                            "</table>\n",
                            "</div>"
                        ],
                        "text/plain": [
                            "       Pregnancies     Glucose  BloodPressure  SkinThickness     Insulin  \\\n",
                            "count   543.000000  543.000000     543.000000     543.000000  543.000000   \n",
                            "mean      3.931860  121.517495      72.217311      20.799263   81.182320   \n",
                            "std       3.415419   30.550230      12.331249      15.897221  111.224474   \n",
                            "min       0.000000   44.000000      24.000000       0.000000    0.000000   \n",
                            "25%       1.000000   99.500000      64.000000       0.000000    0.000000   \n",
                            "50%       3.000000  117.000000      72.000000      23.000000   45.000000   \n",
                            "75%       6.000000  140.000000      80.000000      32.000000  130.000000   \n",
                            "max      17.000000  199.000000     122.000000      99.000000  680.000000   \n",
                            "\n",
                            "              BMI  DiabetesPedigreeFunction         Age     Outcome  \n",
                            "count  543.000000                543.000000  543.000000  543.000000  \n",
                            "mean    32.411050                  0.459812   33.504604    0.346225  \n",
                            "std      6.840723                  0.310118   12.262484    0.476205  \n",
                            "min     18.200000                  0.078000   21.000000    0.000000  \n",
                            "25%     27.450000                  0.241000   24.000000    0.000000  \n",
                            "50%     32.200000                  0.364000   29.000000    0.000000  \n",
                            "75%     36.500000                  0.606000   41.000000    1.000000  \n",
                            "max     67.100000                  2.420000   81.000000    1.000000  "
                        ]
                    },
                    "execution_count": 25,
                    "metadata": {},
                    "output_type": "execute_result"
                }
            ],
            "source": [
                "df_train.describe()"
            ]
        },
        {
            "cell_type": "code",
            "execution_count": 26,
            "metadata": {},
            "outputs": [
                {
                    "data": {
                        "text/plain": [
                            "<AxesSubplot:>"
                        ]
                    },
                    "execution_count": 26,
                    "metadata": {},
                    "output_type": "execute_result"
                },
                {
                    "data": {
                        "image/png": "[encoded data removed]",
                        "text/plain": [
                            "<Figure size 432x288 with 2 Axes>"
                        ]
                    },
                    "metadata": {
                        "needs_background": "light"
                    },
                    "output_type": "display_data"
                }
            ],
            "source": [
                "sns.heatmap(X_train.corr(),annot=True)"
            ]
        },
        {
            "cell_type": "code",
            "execution_count": 27,
            "metadata": {},
            "outputs": [
                {
                    "data": {
                        "text/html": [
                            "<style type=\"text/css\">\n",
                            "#T_3e0be_row0_col0, #T_3e0be_row1_col1, #T_3e0be_row2_col2, #T_3e0be_row3_col3, #T_3e0be_row4_col4, #T_3e0be_row5_col5, #T_3e0be_row6_col6, #T_3e0be_row7_col7, #T_3e0be_row8_col8 {\n",
                            "  background-color: #08306b;\n",
                            "  color: #f1f1f1;\n",
                            "}\n",
                            "#T_3e0be_row0_col1, #T_3e0be_row0_col3, #T_3e0be_row4_col7 {\n",
                            "  background-color: #eaf3fb;\n",
                            "  color: #000000;\n",
                            "}\n",
                            "#T_3e0be_row0_col2, #T_3e0be_row1_col5, #T_3e0be_row5_col8 {\n",
                            "  background-color: #cbdef1;\n",
                            "  color: #000000;\n",
                            "}\n",
                            "#T_3e0be_row0_col4, #T_3e0be_row4_col0 {\n",
                            "  background-color: #f4f9fe;\n",
                            "  color: #000000;\n",
                            "}\n",
                            "#T_3e0be_row0_col5, #T_3e0be_row7_col6 {\n",
                            "  background-color: #f6faff;\n",
                            "  color: #000000;\n",
                            "}\n",
                            "#T_3e0be_row0_col6, #T_3e0be_row3_col0, #T_3e0be_row3_col1, #T_3e0be_row3_col7, #T_3e0be_row3_col8, #T_3e0be_row4_col2, #T_3e0be_row7_col3, #T_3e0be_row7_col4, #T_3e0be_row7_col5 {\n",
                            "  background-color: #f7fbff;\n",
                            "  color: #000000;\n",
                            "}\n",
                            "#T_3e0be_row0_col7 {\n",
                            "  background-color: #4594c7;\n",
                            "  color: #f1f1f1;\n",
                            "}\n",
                            "#T_3e0be_row0_col8 {\n",
                            "  background-color: #dfebf7;\n",
                            "  color: #000000;\n",
                            "}\n",
                            "#T_3e0be_row1_col0, #T_3e0be_row1_col3 {\n",
                            "  background-color: #d4e4f4;\n",
                            "  color: #000000;\n",
                            "}\n",
                            "#T_3e0be_row1_col2 {\n",
                            "  background-color: #c6dbef;\n",
                            "  color: #000000;\n",
                            "}\n",
                            "#T_3e0be_row1_col4 {\n",
                            "  background-color: #a5cde3;\n",
                            "  color: #000000;\n",
                            "}\n",
                            "#T_3e0be_row1_col6, #T_3e0be_row2_col3 {\n",
                            "  background-color: #e1edf8;\n",
                            "  color: #000000;\n",
                            "}\n",
                            "#T_3e0be_row1_col7 {\n",
                            "  background-color: #add0e6;\n",
                            "  color: #000000;\n",
                            "}\n",
                            "#T_3e0be_row1_col8, #T_3e0be_row2_col7 {\n",
                            "  background-color: #8dc1dd;\n",
                            "  color: #000000;\n",
                            "}\n",
                            "#T_3e0be_row2_col0 {\n",
                            "  background-color: #c7dbef;\n",
                            "  color: #000000;\n",
                            "}\n",
                            "#T_3e0be_row2_col1 {\n",
                            "  background-color: #d6e5f4;\n",
                            "  color: #000000;\n",
                            "}\n",
                            "#T_3e0be_row2_col4 {\n",
                            "  background-color: #f2f7fd;\n",
                            "  color: #000000;\n",
                            "}\n",
                            "#T_3e0be_row2_col5 {\n",
                            "  background-color: #bad6eb;\n",
                            "  color: #000000;\n",
                            "}\n",
                            "#T_3e0be_row2_col6 {\n",
                            "  background-color: #f5fafe;\n",
                            "  color: #000000;\n",
                            "}\n",
                            "#T_3e0be_row2_col8 {\n",
                            "  background-color: #e6f0f9;\n",
                            "  color: #000000;\n",
                            "}\n",
                            "#T_3e0be_row3_col2 {\n",
                            "  background-color: #f2f8fd;\n",
                            "  color: #000000;\n",
                            "}\n",
                            "#T_3e0be_row3_col4 {\n",
                            "  background-color: #79b5d9;\n",
                            "  color: #000000;\n",
                            "}\n",
                            "#T_3e0be_row3_col5 {\n",
                            "  background-color: #99c7e0;\n",
                            "  color: #000000;\n",
                            "}\n",
                            "#T_3e0be_row3_col6, #T_3e0be_row6_col8 {\n",
                            "  background-color: #dbe9f6;\n",
                            "  color: #000000;\n",
                            "}\n",
                            "#T_3e0be_row4_col1 {\n",
                            "  background-color: #c2d9ee;\n",
                            "  color: #000000;\n",
                            "}\n",
                            "#T_3e0be_row4_col3 {\n",
                            "  background-color: #6caed6;\n",
                            "  color: #f1f1f1;\n",
                            "}\n",
                            "#T_3e0be_row4_col5, #T_3e0be_row6_col4 {\n",
                            "  background-color: #d1e2f3;\n",
                            "  color: #000000;\n",
                            "}\n",
                            "#T_3e0be_row4_col6 {\n",
                            "  background-color: #deebf7;\n",
                            "  color: #000000;\n",
                            "}\n",
                            "#T_3e0be_row4_col8, #T_3e0be_row6_col2 {\n",
                            "  background-color: #ecf4fb;\n",
                            "  color: #000000;\n",
                            "}\n",
                            "#T_3e0be_row5_col0 {\n",
                            "  background-color: #eef5fc;\n",
                            "  color: #000000;\n",
                            "}\n",
                            "#T_3e0be_row5_col1 {\n",
                            "  background-color: #d9e7f5;\n",
                            "  color: #000000;\n",
                            "}\n",
                            "#T_3e0be_row5_col2 {\n",
                            "  background-color: #b8d5ea;\n",
                            "  color: #000000;\n",
                            "}\n",
                            "#T_3e0be_row5_col3 {\n",
                            "  background-color: #7fb9da;\n",
                            "  color: #000000;\n",
                            "}\n",
                            "#T_3e0be_row5_col4 {\n",
                            "  background-color: #cadef0;\n",
                            "  color: #000000;\n",
                            "}\n",
                            "#T_3e0be_row5_col6, #T_3e0be_row6_col7, #T_3e0be_row7_col8 {\n",
                            "  background-color: #dce9f6;\n",
                            "  color: #000000;\n",
                            "}\n",
                            "#T_3e0be_row5_col7 {\n",
                            "  background-color: #e3eef8;\n",
                            "  color: #000000;\n",
                            "}\n",
                            "#T_3e0be_row6_col0 {\n",
                            "  background-color: #e8f1fa;\n",
                            "  color: #000000;\n",
                            "}\n",
                            "#T_3e0be_row6_col1 {\n",
                            "  background-color: #ebf3fb;\n",
                            "  color: #000000;\n",
                            "}\n",
                            "#T_3e0be_row6_col3, #T_3e0be_row8_col0 {\n",
                            "  background-color: #c3daee;\n",
                            "  color: #000000;\n",
                            "}\n",
                            "#T_3e0be_row6_col5 {\n",
                            "  background-color: #d6e6f4;\n",
                            "  color: #000000;\n",
                            "}\n",
                            "#T_3e0be_row7_col0 {\n",
                            "  background-color: #4e9acb;\n",
                            "  color: #f1f1f1;\n",
                            "}\n",
                            "#T_3e0be_row7_col1 {\n",
                            "  background-color: #d3e3f3;\n",
                            "  color: #000000;\n",
                            "}\n",
                            "#T_3e0be_row7_col2 {\n",
                            "  background-color: #a3cce3;\n",
                            "  color: #000000;\n",
                            "}\n",
                            "#T_3e0be_row8_col1 {\n",
                            "  background-color: #85bcdc;\n",
                            "  color: #000000;\n",
                            "}\n",
                            "#T_3e0be_row8_col2 {\n",
                            "  background-color: #cfe1f2;\n",
                            "  color: #000000;\n",
                            "}\n",
                            "#T_3e0be_row8_col3 {\n",
                            "  background-color: #cee0f2;\n",
                            "  color: #000000;\n",
                            "}\n",
                            "#T_3e0be_row8_col4 {\n",
                            "  background-color: #d0e1f2;\n",
                            "  color: #000000;\n",
                            "}\n",
                            "#T_3e0be_row8_col5 {\n",
                            "  background-color: #b2d2e8;\n",
                            "  color: #000000;\n",
                            "}\n",
                            "#T_3e0be_row8_col6 {\n",
                            "  background-color: #cddff1;\n",
                            "  color: #000000;\n",
                            "}\n",
                            "#T_3e0be_row8_col7 {\n",
                            "  background-color: #b0d2e7;\n",
                            "  color: #000000;\n",
                            "}\n",
                            "</style>\n",
                            "<table id=\"T_3e0be\">\n",
                            "  <thead>\n",
                            "    <tr>\n",
                            "      <th class=\"blank level0\" >&nbsp;</th>\n",
                            "      <th id=\"T_3e0be_level0_col0\" class=\"col_heading level0 col0\" >Pregnancies</th>\n",
                            "      <th id=\"T_3e0be_level0_col1\" class=\"col_heading level0 col1\" >Glucose</th>\n",
                            "      <th id=\"T_3e0be_level0_col2\" class=\"col_heading level0 col2\" >BloodPressure</th>\n",
                            "      <th id=\"T_3e0be_level0_col3\" class=\"col_heading level0 col3\" >SkinThickness</th>\n",
                            "      <th id=\"T_3e0be_level0_col4\" class=\"col_heading level0 col4\" >Insulin</th>\n",
                            "      <th id=\"T_3e0be_level0_col5\" class=\"col_heading level0 col5\" >BMI</th>\n",
                            "      <th id=\"T_3e0be_level0_col6\" class=\"col_heading level0 col6\" >DiabetesPedigreeFunction</th>\n",
                            "      <th id=\"T_3e0be_level0_col7\" class=\"col_heading level0 col7\" >Age</th>\n",
                            "      <th id=\"T_3e0be_level0_col8\" class=\"col_heading level0 col8\" >Outcome</th>\n",
                            "    </tr>\n",
                            "  </thead>\n",
                            "  <tbody>\n",
                            "    <tr>\n",
                            "      <th id=\"T_3e0be_level0_row0\" class=\"row_heading level0 row0\" >Pregnancies</th>\n",
                            "      <td id=\"T_3e0be_row0_col0\" class=\"data row0 col0\" >1.000000</td>\n",
                            "      <td id=\"T_3e0be_row0_col1\" class=\"data row0 col1\" >0.128695</td>\n",
                            "      <td id=\"T_3e0be_row0_col2\" class=\"data row0 col2\" >0.203663</td>\n",
                            "      <td id=\"T_3e0be_row0_col3\" class=\"data row0 col3\" >-0.059651</td>\n",
                            "      <td id=\"T_3e0be_row0_col4\" class=\"data row0 col4\" >-0.041003</td>\n",
                            "      <td id=\"T_3e0be_row0_col5\" class=\"data row0 col5\" >-0.007470</td>\n",
                            "      <td id=\"T_3e0be_row0_col6\" class=\"data row0 col6\" >0.019356</td>\n",
                            "      <td id=\"T_3e0be_row0_col7\" class=\"data row0 col7\" >0.562590</td>\n",
                            "      <td id=\"T_3e0be_row0_col8\" class=\"data row0 col8\" >0.214185</td>\n",
                            "    </tr>\n",
                            "    <tr>\n",
                            "      <th id=\"T_3e0be_level0_row1\" class=\"row_heading level0 row1\" >Glucose</th>\n",
                            "      <td id=\"T_3e0be_row1_col0\" class=\"data row1 col0\" >0.128695</td>\n",
                            "      <td id=\"T_3e0be_row1_col1\" class=\"data row1 col1\" >1.000000</td>\n",
                            "      <td id=\"T_3e0be_row1_col2\" class=\"data row1 col2\" >0.228245</td>\n",
                            "      <td id=\"T_3e0be_row1_col3\" class=\"data row1 col3\" >0.069994</td>\n",
                            "      <td id=\"T_3e0be_row1_col4\" class=\"data row1 col4\" >0.313630</td>\n",
                            "      <td id=\"T_3e0be_row1_col5\" class=\"data row1 col5\" >0.214476</td>\n",
                            "      <td id=\"T_3e0be_row1_col6\" class=\"data row1 col6\" >0.126815</td>\n",
                            "      <td id=\"T_3e0be_row1_col7\" class=\"data row1 col7\" >0.241120</td>\n",
                            "      <td id=\"T_3e0be_row1_col8\" class=\"data row1 col8\" >0.476305</td>\n",
                            "    </tr>\n",
                            "    <tr>\n",
                            "      <th id=\"T_3e0be_level0_row2\" class=\"row_heading level0 row2\" >BloodPressure</th>\n",
                            "      <td id=\"T_3e0be_row2_col0\" class=\"data row2 col0\" >0.203663</td>\n",
                            "      <td id=\"T_3e0be_row2_col1\" class=\"data row2 col1\" >0.228245</td>\n",
                            "      <td id=\"T_3e0be_row2_col2\" class=\"data row2 col2\" >1.000000</td>\n",
                            "      <td id=\"T_3e0be_row2_col3\" class=\"data row2 col3\" >-0.003589</td>\n",
                            "      <td id=\"T_3e0be_row2_col4\" class=\"data row2 col4\" >-0.029131</td>\n",
                            "      <td id=\"T_3e0be_row2_col5\" class=\"data row2 col5\" >0.276175</td>\n",
                            "      <td id=\"T_3e0be_row2_col6\" class=\"data row2 col6\" >0.028567</td>\n",
                            "      <td id=\"T_3e0be_row2_col7\" class=\"data row2 col7\" >0.340978</td>\n",
                            "      <td id=\"T_3e0be_row2_col8\" class=\"data row2 col8\" >0.182279</td>\n",
                            "    </tr>\n",
                            "    <tr>\n",
                            "      <th id=\"T_3e0be_level0_row3\" class=\"row_heading level0 row3\" >SkinThickness</th>\n",
                            "      <td id=\"T_3e0be_row3_col0\" class=\"data row3 col0\" >-0.059651</td>\n",
                            "      <td id=\"T_3e0be_row3_col1\" class=\"data row3 col1\" >0.069994</td>\n",
                            "      <td id=\"T_3e0be_row3_col2\" class=\"data row3 col2\" >-0.003589</td>\n",
                            "      <td id=\"T_3e0be_row3_col3\" class=\"data row3 col3\" >1.000000</td>\n",
                            "      <td id=\"T_3e0be_row3_col4\" class=\"data row3 col4\" >0.434014</td>\n",
                            "      <td id=\"T_3e0be_row3_col5\" class=\"data row3 col5\" >0.378657</td>\n",
                            "      <td id=\"T_3e0be_row3_col6\" class=\"data row3 col6\" >0.160786</td>\n",
                            "      <td id=\"T_3e0be_row3_col7\" class=\"data row3 col7\" >-0.131113</td>\n",
                            "      <td id=\"T_3e0be_row3_col8\" class=\"data row3 col8\" >0.103272</td>\n",
                            "    </tr>\n",
                            "    <tr>\n",
                            "      <th id=\"T_3e0be_level0_row4\" class=\"row_heading level0 row4\" >Insulin</th>\n",
                            "      <td id=\"T_3e0be_row4_col0\" class=\"data row4 col0\" >-0.041003</td>\n",
                            "      <td id=\"T_3e0be_row4_col1\" class=\"data row4 col1\" >0.313630</td>\n",
                            "      <td id=\"T_3e0be_row4_col2\" class=\"data row4 col2\" >-0.029131</td>\n",
                            "      <td id=\"T_3e0be_row4_col3\" class=\"data row4 col3\" >0.434014</td>\n",
                            "      <td id=\"T_3e0be_row4_col4\" class=\"data row4 col4\" >1.000000</td>\n",
                            "      <td id=\"T_3e0be_row4_col5\" class=\"data row4 col5\" >0.180870</td>\n",
                            "      <td id=\"T_3e0be_row4_col6\" class=\"data row4 col6\" >0.144517</td>\n",
                            "      <td id=\"T_3e0be_row4_col7\" class=\"data row4 col7\" >-0.059335</td>\n",
                            "      <td id=\"T_3e0be_row4_col8\" class=\"data row4 col8\" >0.154062</td>\n",
                            "    </tr>\n",
                            "    <tr>\n",
                            "      <th id=\"T_3e0be_level0_row5\" class=\"row_heading level0 row5\" >BMI</th>\n",
                            "      <td id=\"T_3e0be_row5_col0\" class=\"data row5 col0\" >-0.007470</td>\n",
                            "      <td id=\"T_3e0be_row5_col1\" class=\"data row5 col1\" >0.214476</td>\n",
                            "      <td id=\"T_3e0be_row5_col2\" class=\"data row5 col2\" >0.276175</td>\n",
                            "      <td id=\"T_3e0be_row5_col3\" class=\"data row5 col3\" >0.378657</td>\n",
                            "      <td id=\"T_3e0be_row5_col4\" class=\"data row5 col4\" >0.180870</td>\n",
                            "      <td id=\"T_3e0be_row5_col5\" class=\"data row5 col5\" >1.000000</td>\n",
                            "      <td id=\"T_3e0be_row5_col6\" class=\"data row5 col6\" >0.155318</td>\n",
                            "      <td id=\"T_3e0be_row5_col7\" class=\"data row5 col7\" >-0.014559</td>\n",
                            "      <td id=\"T_3e0be_row5_col8\" class=\"data row5 col8\" >0.303647</td>\n",
                            "    </tr>\n",
                            "    <tr>\n",
                            "      <th id=\"T_3e0be_level0_row6\" class=\"row_heading level0 row6\" >DiabetesPedigreeFunction</th>\n",
                            "      <td id=\"T_3e0be_row6_col0\" class=\"data row6 col0\" >0.019356</td>\n",
                            "      <td id=\"T_3e0be_row6_col1\" class=\"data row6 col1\" >0.126815</td>\n",
                            "      <td id=\"T_3e0be_row6_col2\" class=\"data row6 col2\" >0.028567</td>\n",
                            "      <td id=\"T_3e0be_row6_col3\" class=\"data row6 col3\" >0.160786</td>\n",
                            "      <td id=\"T_3e0be_row6_col4\" class=\"data row6 col4\" >0.144517</td>\n",
                            "      <td id=\"T_3e0be_row6_col5\" class=\"data row6 col5\" >0.155318</td>\n",
                            "      <td id=\"T_3e0be_row6_col6\" class=\"data row6 col6\" >1.000000</td>\n",
                            "      <td id=\"T_3e0be_row6_col7\" class=\"data row6 col7\" >0.024778</td>\n",
                            "      <td id=\"T_3e0be_row6_col8\" class=\"data row6 col8\" >0.231706</td>\n",
                            "    </tr>\n",
                            "    <tr>\n",
                            "      <th id=\"T_3e0be_level0_row7\" class=\"row_heading level0 row7\" >Age</th>\n",
                            "      <td id=\"T_3e0be_row7_col0\" class=\"data row7 col0\" >0.562590</td>\n",
                            "      <td id=\"T_3e0be_row7_col1\" class=\"data row7 col1\" >0.241120</td>\n",
                            "      <td id=\"T_3e0be_row7_col2\" class=\"data row7 col2\" >0.340978</td>\n",
                            "      <td id=\"T_3e0be_row7_col3\" class=\"data row7 col3\" >-0.131113</td>\n",
                            "      <td id=\"T_3e0be_row7_col4\" class=\"data row7 col4\" >-0.059335</td>\n",
                            "      <td id=\"T_3e0be_row7_col5\" class=\"data row7 col5\" >-0.014559</td>\n",
                            "      <td id=\"T_3e0be_row7_col6\" class=\"data row7 col6\" >0.024778</td>\n",
                            "      <td id=\"T_3e0be_row7_col7\" class=\"data row7 col7\" >1.000000</td>\n",
                            "      <td id=\"T_3e0be_row7_col8\" class=\"data row7 col8\" >0.228164</td>\n",
                            "    </tr>\n",
                            "    <tr>\n",
                            "      <th id=\"T_3e0be_level0_row8\" class=\"row_heading level0 row8\" >Outcome</th>\n",
                            "      <td id=\"T_3e0be_row8_col0\" class=\"data row8 col0\" >0.214185</td>\n",
                            "      <td id=\"T_3e0be_row8_col1\" class=\"data row8 col1\" >0.476305</td>\n",
                            "      <td id=\"T_3e0be_row8_col2\" class=\"data row8 col2\" >0.182279</td>\n",
                            "      <td id=\"T_3e0be_row8_col3\" class=\"data row8 col3\" >0.103272</td>\n",
                            "      <td id=\"T_3e0be_row8_col4\" class=\"data row8 col4\" >0.154062</td>\n",
                            "      <td id=\"T_3e0be_row8_col5\" class=\"data row8 col5\" >0.303647</td>\n",
                            "      <td id=\"T_3e0be_row8_col6\" class=\"data row8 col6\" >0.231706</td>\n",
                            "      <td id=\"T_3e0be_row8_col7\" class=\"data row8 col7\" >0.228164</td>\n",
                            "      <td id=\"T_3e0be_row8_col8\" class=\"data row8 col8\" >1.000000</td>\n",
                            "    </tr>\n",
                            "  </tbody>\n",
                            "</table>\n"
                        ],
                        "text/plain": [
                            "<pandas.io.formats.style.Styler at 0x7fb3b0c7fe50>"
                        ]
                    },
                    "execution_count": 27,
                    "metadata": {},
                    "output_type": "execute_result"
                }
            ],
            "source": [
                "df_train.corr().style.background_gradient(cmap='Blues')"
            ]
        },
        {
            "cell_type": "code",
            "execution_count": 28,
            "metadata": {},
            "outputs": [
                {
                    "data": {
                        "image/png": "[encoded data removed]",
                        "text/plain": [
                            "<Figure size 576x576 with 9 Axes>"
                        ]
                    },
                    "metadata": {
                        "needs_background": "light"
                    },
                    "output_type": "display_data"
                }
            ],
            "source": [
                "X_train.hist(figsize=(8,8), alpha=0.5)\n",
                "plt.show()"
            ]
        },
        {
            "cell_type": "code",
            "execution_count": 29,
            "metadata": {},
            "outputs": [
                {
                    "data": {
                        "text/plain": [
                            "<AxesSubplot:xlabel='Outcome', ylabel='Glucose'>"
                        ]
                    },
                    "execution_count": 29,
                    "metadata": {},
                    "output_type": "execute_result"
                },
                {
                    "data": {
                        "image/png": "[encoded data removed]",
                        "text/plain": [
                            "<Figure size 432x288 with 1 Axes>"
                        ]
                    },
                    "metadata": {
                        "needs_background": "light"
                    },
                    "output_type": "display_data"
                }
            ],
            "source": [
                "sns.boxplot(x=\"Outcome\", y=\"Glucose\", data=df_train)"
            ]
        },
        {
            "cell_type": "code",
            "execution_count": 30,
            "metadata": {},
            "outputs": [
                {
                    "data": {
                        "text/plain": [
                            "<AxesSubplot:xlabel='Outcome', ylabel='BMI'>"
                        ]
                    },
                    "execution_count": 30,
                    "metadata": {},
                    "output_type": "execute_result"
                },
                {
                    "data": {
                        "image/png": "[encoded data removed]",
                        "text/plain": [
                            "<Figure size 432x288 with 1 Axes>"
                        ]
                    },
                    "metadata": {
                        "needs_background": "light"
                    },
                    "output_type": "display_data"
                }
            ],
            "source": [
                "sns.boxplot(x=\"Outcome\", y=\"BMI\", data=df_train)"
            ]
        },
        {
            "cell_type": "code",
            "execution_count": 31,
            "metadata": {},
            "outputs": [
                {
                    "name": "stdout",
                    "output_type": "stream",
                    "text": [
                        "Accuracy model 1 - train set: 1.0\n",
                        "Accuracy model 1 - test set: 0.7182320441988951\n"
                    ]
                }
            ],
            "source": [
                "clf = DecisionTreeClassifier(criterion='entropy',random_state=0)\n",
                "\n",
                "clf.fit(X_train, y_train)\n",
                "\n",
                "print('Accuracy model 1 - train set:', clf.score(X_train, y_train))\n",
                "print('Accuracy model 1 - test set:', clf.score(X_test, y_test))"
            ]
        },
        {
            "cell_type": "code",
            "execution_count": 32,
            "metadata": {},
            "outputs": [],
            "source": [
                "clf_pred=clf.predict(X_test)"
            ]
        },
        {
            "cell_type": "code",
            "execution_count": 37,
            "metadata": {},
            "outputs": [
                {
                    "data": {
                        "image/png": "[encoded data removed]",
                        "text/plain": [
                            "<Figure size 432x288 with 2 Axes>"
                        ]
                    },
                    "metadata": {
                        "needs_background": "light"
                    },
                    "output_type": "display_data"
                }
            ],
            "source": [
                "cm = confusion_matrix(y_test, clf_pred, labels=clf.classes_)\n",
                "disp = ConfusionMatrixDisplay(confusion_matrix=cm,\n",
                "display_labels=clf.classes_)\n",
                "disp.plot()\n",
                "\n",
                "plt.show()"
            ]
        },
        {
            "cell_type": "code",
            "execution_count": 55,
            "metadata": {},
            "outputs": [
                {
                    "data": {
                        "image/png": "[encoded data removed]",
                        "text/plain": [
                            "<Figure size 720x576 with 1 Axes>"
                        ]
                    },
                    "metadata": {
                        "needs_background": "light"
                    },
                    "output_type": "display_data"
                }
            ],
            "source": [
                "plt.figure(figsize=(10,8))\n",
                "tree.plot_tree(clf)\n",
                "plt.show()"
            ]
        },
        {
            "cell_type": "markdown",
            "metadata": {},
            "source": [
                "Cross validation"
            ]
        },
        {
            "cell_type": "code",
            "execution_count": 58,
            "metadata": {},
            "outputs": [
                {
                    "name": "stdout",
                    "output_type": "stream",
                    "text": [
                        "Fitting 3 folds for each of 648 candidates, totalling 1944 fits\n"
                    ]
                },
                {
                    "data": {
                        "text/html": [
                            "<style>#sk-container-id-1 {color: black;background-color: white;}#sk-container-id-1 pre{padding: 0;}#sk-container-id-1 div.sk-toggleable {background-color: white;}#sk-container-id-1 label.sk-toggleable__label {cursor: pointer;display: block;width: 100%;margin-bottom: 0;padding: 0.3em;box-sizing: border-box;text-align: center;}#sk-container-id-1 label.sk-toggleable__label-arrow:before {content: \"▸\";float: left;margin-right: 0.25em;color: #696969;}#sk-container-id-1 label.sk-toggleable__label-arrow:hover:before {color: black;}#sk-container-id-1 div.sk-estimator:hover label.sk-toggleable__label-arrow:before {color: black;}#sk-container-id-1 div.sk-toggleable__content {max-height: 0;max-width: 0;overflow: hidden;text-align: left;background-color: #f0f8ff;}#sk-container-id-1 div.sk-toggleable__content pre {margin: 0.2em;color: black;border-radius: 0.25em;background-color: #f0f8ff;}#sk-container-id-1 input.sk-toggleable__control:checked~div.sk-toggleable__content {max-height: 200px;max-width: 100%;overflow: auto;}#sk-container-id-1 input.sk-toggleable__control:checked~label.sk-toggleable__label-arrow:before {content: \"▾\";}#sk-container-id-1 div.sk-estimator input.sk-toggleable__control:checked~label.sk-toggleable__label {background-color: #d4ebff;}#sk-container-id-1 div.sk-label input.sk-toggleable__control:checked~label.sk-toggleable__label {background-color: #d4ebff;}#sk-container-id-1 input.sk-hidden--visually {border: 0;clip: rect(1px 1px 1px 1px);clip: rect(1px, 1px, 1px, 1px);height: 1px;margin: -1px;overflow: hidden;padding: 0;position: absolute;width: 1px;}#sk-container-id-1 div.sk-estimator {font-family: monospace;background-color: #f0f8ff;border: 1px dotted black;border-radius: 0.25em;box-sizing: border-box;margin-bottom: 0.5em;}#sk-container-id-1 div.sk-estimator:hover {background-color: #d4ebff;}#sk-container-id-1 div.sk-parallel-item::after {content: \"\";width: 100%;border-bottom: 1px solid gray;flex-grow: 1;}#sk-container-id-1 div.sk-label:hover label.sk-toggleable__label {background-color: #d4ebff;}#sk-container-id-1 div.sk-serial::before {content: \"\";position: absolute;border-left: 1px solid gray;box-sizing: border-box;top: 0;bottom: 0;left: 50%;z-index: 0;}#sk-container-id-1 div.sk-serial {display: flex;flex-direction: column;align-items: center;background-color: white;padding-right: 0.2em;padding-left: 0.2em;position: relative;}#sk-container-id-1 div.sk-item {position: relative;z-index: 1;}#sk-container-id-1 div.sk-parallel {display: flex;align-items: stretch;justify-content: center;background-color: white;position: relative;}#sk-container-id-1 div.sk-item::before, #sk-container-id-1 div.sk-parallel-item::before {content: \"\";position: absolute;border-left: 1px solid gray;box-sizing: border-box;top: 0;bottom: 0;left: 50%;z-index: -1;}#sk-container-id-1 div.sk-parallel-item {display: flex;flex-direction: column;z-index: 1;position: relative;background-color: white;}#sk-container-id-1 div.sk-parallel-item:first-child::after {align-self: flex-end;width: 50%;}#sk-container-id-1 div.sk-parallel-item:last-child::after {align-self: flex-start;width: 50%;}#sk-container-id-1 div.sk-parallel-item:only-child::after {width: 0;}#sk-container-id-1 div.sk-dashed-wrapped {border: 1px dashed gray;margin: 0 0.4em 0.5em 0.4em;box-sizing: border-box;padding-bottom: 0.4em;background-color: white;}#sk-container-id-1 div.sk-label label {font-family: monospace;font-weight: bold;display: inline-block;line-height: 1.2em;}#sk-container-id-1 div.sk-label-container {text-align: center;}#sk-container-id-1 div.sk-container {/* jupyter's `normalize.less` sets `[hidden] { display: none; }` but bootstrap.min.css set `[hidden] { display: none !important; }` so we also need the `!important` here to be able to override the default hidden behavior on the sphinx rendered scikit-learn.org. See: https://github.com/scikit-learn/scikit-learn/issues/21755 */display: inline-block !important;position: relative;}#sk-container-id-1 div.sk-text-repr-fallback {display: none;}</style><div id=\"sk-container-id-1\" class=\"sk-top-container\"><div class=\"sk-text-repr-fallback\"><pre>GridSearchCV(cv=3, estimator=DecisionTreeClassifier(random_state=0), n_jobs=-1,\n",
                            "             param_grid={&#x27;criterion&#x27;: [&#x27;gini&#x27;, &#x27;entropy&#x27;],\n",
                            "                         &#x27;max_depth&#x27;: range(1, 10),\n",
                            "                         &#x27;min_samples_leaf&#x27;: range(1, 5),\n",
                            "                         &#x27;min_samples_split&#x27;: range(1, 10)},\n",
                            "             verbose=1)</pre><b>In a Jupyter environment, please rerun this cell to show the HTML representation or trust the notebook. <br />On GitHub, the HTML representation is unable to render, please try loading this page with nbviewer.org.</b></div><div class=\"sk-container\" hidden><div class=\"sk-item sk-dashed-wrapped\"><div class=\"sk-label-container\"><div class=\"sk-label sk-toggleable\"><input class=\"sk-toggleable__control sk-hidden--visually\" id=\"sk-estimator-id-1\" type=\"checkbox\" ><label for=\"sk-estimator-id-1\" class=\"sk-toggleable__label sk-toggleable__label-arrow\">GridSearchCV</label><div class=\"sk-toggleable__content\"><pre>GridSearchCV(cv=3, estimator=DecisionTreeClassifier(random_state=0), n_jobs=-1,\n",
                            "             param_grid={&#x27;criterion&#x27;: [&#x27;gini&#x27;, &#x27;entropy&#x27;],\n",
                            "                         &#x27;max_depth&#x27;: range(1, 10),\n",
                            "                         &#x27;min_samples_leaf&#x27;: range(1, 5),\n",
                            "                         &#x27;min_samples_split&#x27;: range(1, 10)},\n",
                            "             verbose=1)</pre></div></div></div><div class=\"sk-parallel\"><div class=\"sk-parallel-item\"><div class=\"sk-item\"><div class=\"sk-label-container\"><div class=\"sk-label sk-toggleable\"><input class=\"sk-toggleable__control sk-hidden--visually\" id=\"sk-estimator-id-2\" type=\"checkbox\" ><label for=\"sk-estimator-id-2\" class=\"sk-toggleable__label sk-toggleable__label-arrow\">estimator: DecisionTreeClassifier</label><div class=\"sk-toggleable__content\"><pre>DecisionTreeClassifier(random_state=0)</pre></div></div></div><div class=\"sk-serial\"><div class=\"sk-item\"><div class=\"sk-estimator sk-toggleable\"><input class=\"sk-toggleable__control sk-hidden--visually\" id=\"sk-estimator-id-3\" type=\"checkbox\" ><label for=\"sk-estimator-id-3\" class=\"sk-toggleable__label sk-toggleable__label-arrow\">DecisionTreeClassifier</label><div class=\"sk-toggleable__content\"><pre>DecisionTreeClassifier(random_state=0)</pre></div></div></div></div></div></div></div></div></div></div>"
                        ],
                        "text/plain": [
                            "GridSearchCV(cv=3, estimator=DecisionTreeClassifier(random_state=0), n_jobs=-1,\n",
                            "             param_grid={'criterion': ['gini', 'entropy'],\n",
                            "                         'max_depth': range(1, 10),\n",
                            "                         'min_samples_leaf': range(1, 5),\n",
                            "                         'min_samples_split': range(1, 10)},\n",
                            "             verbose=1)"
                        ]
                    },
                    "execution_count": 58,
                    "metadata": {},
                    "output_type": "execute_result"
                }
            ],
            "source": [
                "params = {'criterion': ['gini', 'entropy'], 'max_depth': range(1,10), 'min_samples_split':range(1,10), 'min_samples_leaf': range(1,5)}\n",
                "\n",
                "grid = GridSearchCV(DecisionTreeClassifier(random_state=0), params, verbose=1, n_jobs=-1,cv=3)\n",
                "\n",
                "grid.fit(X_train, y_train)"
            ]
        },
        {
            "cell_type": "code",
            "execution_count": 59,
            "metadata": {},
            "outputs": [],
            "source": [
                "model_cv = grid.best_estimator_ "
            ]
        },
        {
            "cell_type": "code",
            "execution_count": 60,
            "metadata": {},
            "outputs": [
                {
                    "data": {
                        "text/plain": [
                            "0.7661141804788213"
                        ]
                    },
                    "execution_count": 60,
                    "metadata": {},
                    "output_type": "execute_result"
                }
            ],
            "source": [
                "\n",
                "grid.best_score_ "
            ]
        },
        {
            "cell_type": "code",
            "execution_count": 61,
            "metadata": {},
            "outputs": [
                {
                    "data": {
                        "text/plain": [
                            "0.8250460405156538"
                        ]
                    },
                    "execution_count": 61,
                    "metadata": {},
                    "output_type": "execute_result"
                }
            ],
            "source": [
                "grid.score(X_train, y_train)"
            ]
        },
        {
            "cell_type": "code",
            "execution_count": 63,
            "metadata": {},
            "outputs": [
                {
                    "data": {
                        "text/plain": [
                            "0.7237569060773481"
                        ]
                    },
                    "execution_count": 63,
                    "metadata": {},
                    "output_type": "execute_result"
                }
            ],
            "source": [
                "y_pred = model_cv.predict(X_test)\n",
                "np.mean(y_test==y_pred)"
            ]
        },
        {
            "cell_type": "code",
            "execution_count": 64,
            "metadata": {},
            "outputs": [
                {
                    "data": {
                        "text/plain": [
                            "0.7237569060773481"
                        ]
                    },
                    "execution_count": 64,
                    "metadata": {},
                    "output_type": "execute_result"
                }
            ],
            "source": [
                "grid.score(X_test, y_test)"
            ]
        },
        {
            "cell_type": "code",
            "execution_count": 65,
            "metadata": {},
            "outputs": [
                {
                    "data": {
                        "image/png": "[encoded data removed]",
                        "text/plain": [
                            "<Figure size 432x288 with 2 Axes>"
                        ]
                    },
                    "metadata": {
                        "needs_background": "light"
                    },
                    "output_type": "display_data"
                }
            ],
            "source": [
                "cm = confusion_matrix(y_test, y_pred, labels=grid.classes_)\n",
                "disp = ConfusionMatrixDisplay(confusion_matrix=cm,\n",
                "display_labels=grid.classes_)\n",
                "disp.plot()\n",
                "\n",
                "plt.show()"
            ]
        },
        {
            "cell_type": "code",
            "execution_count": 66,
            "metadata": {},
            "outputs": [
                {
                    "data": {
                        "image/png": "[encoded data removed]",
                        "text/plain": [
                            "<Figure size 720x576 with 1 Axes>"
                        ]
                    },
                    "metadata": {
                        "needs_background": "light"
                    },
                    "output_type": "display_data"
                }
            ],
            "source": [
                "plt.figure(figsize=(10,8))\n",
                "tree.plot_tree(model_cv)\n",
                "plt.show()"
            ]
        },
        {
            "cell_type": "code",
            "execution_count": 71,
            "metadata": {},
            "outputs": [],
            "source": [
                "filename = '../models/model_cv.sav'\n",
                "pickle.dump(model_cv, open(filename, 'wb'))"
            ]
        },
        {
            "cell_type": "code",
            "execution_count": null,
            "metadata": {},
            "outputs": [],
            "source": []
        }
    ],
    "metadata": {
        "kernelspec": {
            "display_name": "Python 3.8.13 64-bit ('3.8.13')",
            "language": "python",
            "name": "python3"
        },
        "language_info": {
            "codemirror_mode": {
                "name": "ipython",
                "version": 3
            },
            "file_extension": ".py",
            "mimetype": "text/x-python",
            "name": "python",
            "nbconvert_exporter": "python",
            "pygments_lexer": "ipython3",
            "version": "3.8.13"
        },
        "orig_nbformat": 4,
        "vscode": {
            "interpreter": {
                "hash": "110cc1dee26208153f2972f08a2ad52b6a56238dc66d48e87fb757ef2996db56"
            }
        }
    },
    "nbformat": 4,
    "nbformat_minor": 2
}
